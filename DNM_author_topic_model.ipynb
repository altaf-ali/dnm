{
 "cells": [
  {
   "cell_type": "code",
   "execution_count": null,
   "metadata": {
    "collapsed": false
   },
   "outputs": [],
   "source": [
    "import os\n",
    "import re\n",
    "import glob\n",
    "import pickle\n",
    "import json\n",
    "import logging\n",
    "\n",
    "from bidict import bidict\n",
    "\n",
    "from ptm import AuthorTopicModel\n",
    "from ptm.nltk_corpus import get_ids_cnt\n",
    "from ptm.utils import convert_cnt_to_list\n",
    "\n",
    "PTM_ROOT = \"/Users/altaf/Projects/dnm_evolution/python-topic-model\""
   ]
  },
  {
   "cell_type": "code",
   "execution_count": null,
   "metadata": {
    "collapsed": true
   },
   "outputs": [],
   "source": [
    "FORMAT = '%(asctime)-15s %(levelname)-6s %(message)s'\n",
    "DATE_FORMAT = '%b %d %H:%M:%S'\n",
    "formatter = logging.Formatter(fmt=FORMAT, datefmt=DATE_FORMAT)\n",
    "handler = logging.StreamHandler()\n",
    "handler.setFormatter(formatter)\n",
    "logger = logging.getLogger('AuthorTopicModel')\n",
    "\n",
    "logger.addHandler(handler)\n",
    "logger.setLevel(logging.DEBUG)"
   ]
  },
  {
   "cell_type": "code",
   "execution_count": null,
   "metadata": {
    "collapsed": false
   },
   "outputs": [],
   "source": [
    "DATA_DIR = \"/Users/altaf/Projects/dnm_evolution/data/agora/posts\"\n",
    "AUTHORS_FILENAME = os.path.join(DATA_DIR, \"authors.json\")\n",
    "\n",
    "def slurp_file(filename):\n",
    "    with open(filename, 'r') as f:\n",
    "        return(f.read().replace('\\n', ' '))\n",
    "\n",
    "files = glob.glob(DATA_DIR + \"/*.txt\")"
   ]
  },
  {
   "cell_type": "code",
   "execution_count": 7,
   "metadata": {
    "collapsed": false
   },
   "outputs": [],
   "source": [
    "with open(AUTHORS_FILENAME, \"r\") as f:\n",
    "    authors = json.load(f)\n",
    "\n",
    "author_db = bidict()\n",
    "\n",
    "def get_author_id(filename):\n",
    "    match = re.match(\"post_(.*?)\\.\", os.path.basename(filename))\n",
    "    post_id = match.group(1)\n",
    "    if not post_id in authors:\n",
    "        return -1\n",
    "    author = authors[post_id]\n",
    "\n",
    "    author_id = author_db.get(author, -1)\n",
    "    if (author_id < 0):\n",
    "        author_id = len(author_db)\n",
    "        author_db[author] = author_id\n",
    "    return(author_id)\n",
    "\n",
    "author_ids = [get_author_id(f) for f in files]\n",
    "#author_ids = filter(lambda x: x > 0, author_ids)"
   ]
  },
  {
   "cell_type": "code",
   "execution_count": 9,
   "metadata": {
    "collapsed": false
   },
   "outputs": [
    {
     "name": "stdout",
     "output_type": "stream",
     "text": [
      "slurping files\n"
     ]
    }
   ],
   "source": [
    "files = files[0:len(authors)]\n",
    "\n",
    "print(\"slurping files\")\n",
    "posts = [slurp_file(f) for f in files]\n",
    "#print(\"converting to corpus, stage 1\")\n",
    "#voca, doc_ids, doc_cnt = get_ids_cnt(posts)\n",
    "#print(\"converting to corpus, stage 2\")\n",
    "#corpus = convert_cnt_to_list(doc_ids, doc_cnt)"
   ]
  },
  {
   "cell_type": "code",
   "execution_count": null,
   "metadata": {
    "collapsed": false
   },
   "outputs": [],
   "source": [
    "NUM_TOPICS = 50\n",
    "MAX_ITER = 50\n",
    "\n",
    "model = AuthorTopicModel(len(corpus), len(voca), NUM_TOPICS, len(author_ids))\n",
    "model.fit(corpus, author_ids, max_iter = MAX_ITER)"
   ]
  },
  {
   "cell_type": "code",
   "execution_count": 11,
   "metadata": {
    "collapsed": false
   },
   "outputs": [],
   "source": [
    "CORPUS_TSV = \"/Users/altaf/Projects/dnm_evolution/data/agora/posts/corpus.tsv\"\n",
    "\n",
    "delimiters = ' |;|,|\\*|\\?|\\.|\\n'\n",
    "with open(CORPUS_TSV, 'w') as f:\n",
    "    for i in range(1, len(posts)):\n",
    "        tokens = filter(lambda x: x, re.split(delimiters, posts[i].lower()))\n",
    "        f.write(\"%s\\t%s\\n\" % (author_db.inv[author_ids[i]], \":\".join(tokens)))"
   ]
  },
  {
   "cell_type": "code",
   "execution_count": 10,
   "metadata": {
    "collapsed": false
   },
   "outputs": [
    {
     "data": {
      "text/plain": [
       "311675"
      ]
     },
     "execution_count": 10,
     "metadata": {},
     "output_type": "execute_result"
    }
   ],
   "source": [
    "len(posts)"
   ]
  }
 ],
 "metadata": {
  "kernelspec": {
   "display_name": "Python 2",
   "language": "python",
   "name": "python2"
  },
  "language_info": {
   "codemirror_mode": {
    "name": "ipython",
    "version": 2
   },
   "file_extension": ".py",
   "mimetype": "text/x-python",
   "name": "python",
   "nbconvert_exporter": "python",
   "pygments_lexer": "ipython2",
   "version": "2.7.11"
  }
 },
 "nbformat": 4,
 "nbformat_minor": 0
}
