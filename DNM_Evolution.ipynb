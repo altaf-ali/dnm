{
 "cells": [
  {
   "cell_type": "code",
   "execution_count": 1,
   "metadata": {
    "collapsed": false
   },
   "outputs": [],
   "source": [
    "import pandas as pd\n",
    "import graph_tool as gt\n",
    "import graph_tool.draw\n",
    "import graph_tool.community\n",
    "import itertools\n",
    "import collections\n",
    "import matplotlib\n",
    "import math"
   ]
  },
  {
   "cell_type": "code",
   "execution_count": 2,
   "metadata": {
    "collapsed": false
   },
   "outputs": [],
   "source": [
    "products_filename = './data/products_vendors.tsv'\n",
    "df = pd.read_csv(products_filename, sep='\\t')\n",
    "\n",
    "#discard meta-categories\"\n",
    "meta_cats = ['Other','Drugs','Guides & Tutorials','Fraud Related',\n",
    "             'Services','Digital Goods','Electronics', 'Custom Listings']\n",
    "df = df[df['category'].map(lambda x:x not in meta_cats)]     "
   ]
  },
  {
   "cell_type": "code",
   "execution_count": 5,
   "metadata": {
    "collapsed": false
   },
   "outputs": [
    {
     "data": {
      "text/html": [
       "<div>\n",
       "<table border=\"1\" class=\"dataframe\">\n",
       "  <thead>\n",
       "    <tr style=\"text-align: right;\">\n",
       "      <th></th>\n",
       "      <th>category</th>\n",
       "      <th>date</th>\n",
       "      <th>product</th>\n",
       "      <th>vendor</th>\n",
       "      <th>id</th>\n",
       "    </tr>\n",
       "  </thead>\n",
       "  <tbody>\n",
       "    <tr>\n",
       "      <th>60</th>\n",
       "      <td>CC &amp; CVV</td>\n",
       "      <td>2015-01-11 00:00:00</td>\n",
       "      <td>FRESH SPAMMED ARGENTINA CREDIT + DOB ***** FRE...</td>\n",
       "      <td>Underw3bFullz</td>\n",
       "      <td>0</td>\n",
       "    </tr>\n",
       "    <tr>\n",
       "      <th>61</th>\n",
       "      <td>CC &amp; CVV</td>\n",
       "      <td>2015-01-11 00:00:00</td>\n",
       "      <td>Sniff it Up(BRAZIL)</td>\n",
       "      <td>K4KS</td>\n",
       "      <td>0</td>\n",
       "    </tr>\n",
       "    <tr>\n",
       "      <th>62</th>\n",
       "      <td>CC &amp; CVV</td>\n",
       "      <td>2015-01-11 00:00:00</td>\n",
       "      <td>Sniff it Up(AUSTRALIA)</td>\n",
       "      <td>K4KS</td>\n",
       "      <td>0</td>\n",
       "    </tr>\n",
       "    <tr>\n",
       "      <th>63</th>\n",
       "      <td>CC &amp; CVV</td>\n",
       "      <td>2015-01-11 00:00:00</td>\n",
       "      <td>Sniff It Up(BELGIUM)</td>\n",
       "      <td>K4KS</td>\n",
       "      <td>0</td>\n",
       "    </tr>\n",
       "    <tr>\n",
       "      <th>64</th>\n",
       "      <td>CC &amp; CVV</td>\n",
       "      <td>2015-01-11 00:00:00</td>\n",
       "      <td>Sniff It Up (CANADA)</td>\n",
       "      <td>K4KS</td>\n",
       "      <td>0</td>\n",
       "    </tr>\n",
       "  </tbody>\n",
       "</table>\n",
       "</div>"
      ],
      "text/plain": [
       "    category                 date  \\\n",
       "60  CC & CVV  2015-01-11 00:00:00   \n",
       "61  CC & CVV  2015-01-11 00:00:00   \n",
       "62  CC & CVV  2015-01-11 00:00:00   \n",
       "63  CC & CVV  2015-01-11 00:00:00   \n",
       "64  CC & CVV  2015-01-11 00:00:00   \n",
       "\n",
       "                                              product         vendor  id  \n",
       "60  FRESH SPAMMED ARGENTINA CREDIT + DOB ***** FRE...  Underw3bFullz   0  \n",
       "61                                Sniff it Up(BRAZIL)           K4KS   0  \n",
       "62                             Sniff it Up(AUSTRALIA)           K4KS   0  \n",
       "63                               Sniff It Up(BELGIUM)           K4KS   0  \n",
       "64                               Sniff It Up (CANADA)           K4KS   0  "
      ]
     },
     "execution_count": 5,
     "metadata": {},
     "output_type": "execute_result"
    }
   ],
   "source": [
    "df.head()"
   ]
  },
  {
   "cell_type": "code",
   "execution_count": 4,
   "metadata": {
    "collapsed": false
   },
   "outputs": [],
   "source": [
    "#df['count'] = df.groupby(['vendor','category']).transform('count').index\n",
    "\n",
    "#build graph-tool ids\n",
    "node_lbs = {}\n",
    "rev_node_lbs = {}\n",
    "for idx,vendor in enumerate(df['category'].drop_duplicates()):\n",
    "    node_lbs[vendor] = idx\n",
    "    rev_node_lbs[idx] = vendor\n",
    "df['id'] = df['category'].map(lambda x:node_lbs[x])"
   ]
  },
  {
   "cell_type": "code",
   "execution_count": 4,
   "metadata": {
    "collapsed": false
   },
   "outputs": [
    {
     "name": "stdout",
     "output_type": "stream",
     "text": [
      "('g vert/edges: ', 73, 2219)\n"
     ]
    }
   ],
   "source": [
    "edge_list = []\n",
    "dfg = df.groupby('vendor')\n",
    "for name,group in dfg:\n",
    "    ei = itertools.combinations(group['id'].drop_duplicates(),2)\n",
    "    for e in ei:\n",
    "        edge_list.append(tuple(sorted(e)))\n",
    "        \n",
    "#filter edges by num shared vendors\n",
    "MIN_SHARED_VENDORS=1\n",
    "c = collections.Counter(edge_list)\n",
    "edge_list = [e for e in c if c[e]>=MIN_SHARED_VENDORS]\n",
    "\n",
    "#build graph\n",
    "g = gt.Graph(directed=False)\n",
    "g.add_edge_list(edge_list)\n",
    "g.vertex_properties['label'] = g.new_vertex_property('string')\n",
    "for v in g.vertices():\n",
    "    g.vertex_properties['label'][v] = rev_node_lbs[g.vertex_index[v]]\n",
    "print('g vert/edges: ',g.num_vertices(), g.num_edges())\n",
    "\n",
    "#add edge weight property\n",
    "g.edge_properties['weight'] = g.new_edge_property('double')\n",
    "g.edge_properties['color'] = g.new_edge_property('vector<double>')\n",
    "for e in g.edges():\n",
    "    w = c[tuple(sorted([e.source(),e.target()]))]\n",
    "    g.edge_properties['weight'][e] = w\n",
    "    alpha = (float(w)/max(c.values())) + .025\n",
    "    g.edge_properties['color'][e] = [103/255.0,134/255.0,239/255.0,alpha]  "
   ]
  },
  {
   "cell_type": "code",
   "execution_count": 13,
   "metadata": {
    "collapsed": false,
    "scrolled": false
   },
   "outputs": [
    {
     "name": "stdout",
     "output_type": "stream",
     "text": [
      "saving to disk...\n"
     ]
    },
    {
     "data": {
      "text/plain": [
       "<PropertyMap object with key type 'Vertex' and value type 'vector<double>', for Graph 0x125c62550, at 0x1256e6c50>"
      ]
     },
     "execution_count": 13,
     "metadata": {},
     "output_type": "execute_result"
    }
   ],
   "source": [
    "state = gt.community.minimize_nested_blockmodel_dl(g,deg_corr=False,\n",
    "                                                   eweight=g.ep['weight'])\n",
    "bstack = state.get_bstack()\n",
    "t = gt.community.get_hierarchy_tree(state)[0]\n",
    "tpos = pos = gt.draw.radial_tree_layout(t, t.vertex(t.num_vertices() - 1), weighted=True)\n",
    "cts = gt.draw.get_hierarchy_control_points(g, t, tpos,beta=.87)\n",
    "pos = g.own_property(tpos)\n",
    "b = bstack[0].vp[\"b\"]\n",
    "\n",
    "#text rotation\n",
    "text_rot = g.new_vertex_property('double')\n",
    "g.vertex_properties['text_rot'] = text_rot\n",
    "for v in g.vertices():\n",
    "    if pos[v][0] >0:\n",
    "        text_rot[v] = math.atan(pos[v][1]/pos[v][0])\n",
    "    else:\n",
    "        text_rot[v] = math.pi + math.atan(pos[v][1]/pos[v][0])\n",
    "\n",
    "print('saving to disk...')\n",
    "gt.draw.graph_draw(g, pos=pos, vertex_fill_color=b,\n",
    "            edge_control_points=cts,\n",
    "            vertex_size=20,\n",
    "            vertex_text=g.vertex_properties['label'],\n",
    "            vertex_text_rotation=g.vertex_properties['text_rot'],\n",
    "            vertex_text_position=1,\n",
    "            vertex_font_size=20,\n",
    "            vertex_font_family='mono',\n",
    "            vertex_anchor=0,\n",
    "            vertex_color=b,\n",
    "            vcmap=matplotlib.cm.Spectral,\n",
    "            ecmap=matplotlib.cm.Spectral,\n",
    "            edge_color=g.edge_properties['color'],\n",
    "            bg_color=[0,0,0,1],\n",
    "            output_size=[1024*2,1024*2],\n",
    "            output='./data/evo_nvends={0}.png'.format(MIN_SHARED_VENDORS))"
   ]
  },
  {
   "cell_type": "code",
   "execution_count": 5,
   "metadata": {
    "collapsed": true
   },
   "outputs": [],
   "source": [
    "state = gt.community.minimize_nested_blockmodel_dl(g,deg_corr=False, eweight=g.ep['weight'])"
   ]
  },
  {
   "cell_type": "code",
   "execution_count": 9,
   "metadata": {
    "collapsed": false
   },
   "outputs": [],
   "source": [
    "bstack = state.get_bstack()"
   ]
  },
  {
   "cell_type": "code",
   "execution_count": 11,
   "metadata": {
    "collapsed": false
   },
   "outputs": [],
   "source": [
    "t = gt.community.get_hierarchy_tree(state)[0]"
   ]
  },
  {
   "cell_type": "code",
   "execution_count": 12,
   "metadata": {
    "collapsed": false
   },
   "outputs": [
    {
     "data": {
      "text/plain": [
       "<Graph object, directed, with 110 vertices and 109 edges at 0x125b47b90>"
      ]
     },
     "execution_count": 12,
     "metadata": {},
     "output_type": "execute_result"
    }
   ],
   "source": [
    "t"
   ]
  },
  {
   "cell_type": "code",
   "execution_count": null,
   "metadata": {
    "collapsed": true
   },
   "outputs": [],
   "source": []
  }
 ],
 "metadata": {
  "kernelspec": {
   "display_name": "Python 2",
   "language": "python",
   "name": "python2"
  },
  "language_info": {
   "codemirror_mode": {
    "name": "ipython",
    "version": 2
   },
   "file_extension": ".py",
   "mimetype": "text/x-python",
   "name": "python",
   "nbconvert_exporter": "python",
   "pygments_lexer": "ipython2",
   "version": "2.7.11"
  }
 },
 "nbformat": 4,
 "nbformat_minor": 0
}
