{
 "cells": [
  {
   "cell_type": "code",
   "execution_count": null,
   "metadata": {
    "collapsed": false
   },
   "outputs": [],
   "source": [
    "import os\n",
    "import re\n",
    "import pandas as pd\n",
    "import dateutil\n",
    "import logging\n",
    "import hashlib\n",
    "import string\n",
    "import datetime\n",
    "import time\n",
    "\n",
    "import bs4 \n",
    "import dateutil.parser"
   ]
  },
  {
   "cell_type": "code",
   "execution_count": null,
   "metadata": {
    "collapsed": true
   },
   "outputs": [],
   "source": [
    "DATA_DIR='/Users/altaf/Datasets/dnmarchives/agora-forums'\n",
    "MAX_TOPICS = 100000\n",
    "TRACE_TOPICS = 5000"
   ]
  },
  {
   "cell_type": "code",
   "execution_count": null,
   "metadata": {
    "collapsed": true
   },
   "outputs": [],
   "source": [
    "def str_clean(s):\n",
    "    return(s.encode('ascii',errors='ignore').strip())\n",
    "    \n",
    "def file_checksum(path, block_size=32*128, hex=False):\n",
    "    '''\n",
    "    Block size directly depends on the block size of your filesystem\n",
    "    to avoid performances issues\n",
    "    Here I have blocks of 4096 octets (Default NTFS)\n",
    "    '''\n",
    "    md5 = hashlib.md5()\n",
    "    with open(path,'rb') as f:\n",
    "        for chunk in iter(lambda: f.read(block_size), b''):\n",
    "             md5.update(chunk)\n",
    "    if hex:\n",
    "        return md5.hexdigest()\n",
    "    return md5.digest()"
   ]
  },
  {
   "cell_type": "code",
   "execution_count": null,
   "metadata": {
    "collapsed": true
   },
   "outputs": [],
   "source": [
    "class Topic(object):\n",
    "    def __init__(self):\n",
    "        self.title = None\n",
    "        self.pages = list()\n",
    "        self.posters = dict()\n",
    "\n",
    "    def add_page(self, filename, page_id):    \n",
    "        if page_id in self.pages:\n",
    "            return\n",
    "        \n",
    "        soup = bs4.BeautifulSoup(open(filename), 'html.parser')\n",
    "        forumposts = soup.find('div', id='forumposts')\n",
    "        \n",
    "        if not forumposts:\n",
    "            return\n",
    "        \n",
    "        title = str_clean(forumposts.select(\"div h3\")[0].contents[-1])\n",
    "        match = re.match(r'^Topic\\:(.*?)\\(Read \\d+ times\\)$', title)\n",
    "        \n",
    "        if not match:\n",
    "            return\n",
    "        \n",
    "        self.title = str_clean(match.group(1))\n",
    "        \n",
    "        for posts in forumposts.find_all('div', class_='post_wrapper'):\n",
    "            poster = posts.find('div', class_=\"poster\")\n",
    "            h4 = poster.find('h4')\n",
    "            poster_tag = h4.find('a')\n",
    "            if not poster_tag:\n",
    "                poster_tag = h4\n",
    "               \n",
    "            poster_id = str_clean(poster_tag.get_text())\n",
    "            if not poster_id in self.posters:\n",
    "                self.posters[poster_id] = poster_id\n",
    "                \n",
    "        self.pages.append(page_id)           "
   ]
  },
  {
   "cell_type": "code",
   "execution_count": null,
   "metadata": {
    "collapsed": false,
    "scrolled": true
   },
   "outputs": [],
   "source": [
    "class App(object):\n",
    "    \n",
    "    def __init__(self):\n",
    "        self.topics = dict()\n",
    "\n",
    "    def dbg_trace(self):\n",
    "        num_topics = len(self.topics)\n",
    "\n",
    "        if num_topics and not (num_topics % TRACE_TOPICS):\n",
    "            print(\"Topics %d\" % num_topics)\n",
    "        \n",
    "    def run(self):\n",
    "        folders = os.listdir(DATA_DIR)\n",
    "        folder_dates = sorted([dateutil.parser.parse(f) for f in folders if re.match(r'^\\d{4}-\\d{2}-\\d{2}$', f)], reverse=True)\n",
    "        \n",
    "        for folder_date in folder_dates:\n",
    "            if len(self.topics) >= MAX_TOPICS:\n",
    "                break;\n",
    "                \n",
    "            folder = \"%4s-%02d-%02d\" % (folder_date.year, folder_date.month, folder_date.day)\n",
    "            \n",
    "            #if not re.match(r'^\\d{4}-\\d{2}-\\d{2}$', folder):\n",
    "            #    continue\n",
    "\n",
    "            index_php = os.path.join(DATA_DIR, folder, 'index.php')\n",
    "            if not os.path.exists(index_php):\n",
    "                continue\n",
    "\n",
    "            for filename in os.listdir(index_php):\n",
    "                self.dbg_trace()\n",
    "                \n",
    "                if len(self.topics) >= MAX_TOPICS:\n",
    "                    break;\n",
    "                    \n",
    "                match = re.match(r'^topic\\,(\\d+)\\.(\\d+)\\.html$', filename)\n",
    "                if not match:\n",
    "                    continue\n",
    "\n",
    "                topic_id = int(match.group(1))\n",
    "                page_id = int(match.group(2))\n",
    "\n",
    "                if topic_id in self.topics:\n",
    "                    topic = self.topics[topic_id]\n",
    "                else:\n",
    "                    topic = Topic()\n",
    "                    self.topics[topic_id] = topic\n",
    "                \n",
    "                topic.add_page(os.path.join(index_php, filename), page_id)            "
   ]
  },
  {
   "cell_type": "code",
   "execution_count": null,
   "metadata": {
    "collapsed": false
   },
   "outputs": [],
   "source": [
    "if __name__=='__main__':\n",
    "    print(\"START: %s\" % time.ctime())\n",
    "    app = App()\n",
    "    %time app.run()    \n",
    "    print(\"FINISH: %s\" % time.ctime())"
   ]
  },
  {
   "cell_type": "code",
   "execution_count": null,
   "metadata": {
    "collapsed": false,
    "scrolled": false
   },
   "outputs": [],
   "source": [
    "for topic_id, topic in app.topics.iteritems():\n",
    "    print(topic.title)\n",
    "    print(topic.pages)\n",
    "    print(topic.posters)"
   ]
  },
  {
   "cell_type": "code",
   "execution_count": null,
   "metadata": {
    "collapsed": false,
    "scrolled": true
   },
   "outputs": [],
   "source": [
    "filename = '/Users/altaf/Datasets/dnmarchives/agora-forums/2015-07-06/index.php/topic,100166.0.html'\n",
    "soup = bs4.BeautifulSoup(open(filename), 'html.parser', from_encoding='utf-8')\n",
    "forumposts = soup.find('div', id='forumposts')\n",
    "for posts in div.find_all('div', class_='post_wrapper'):\n",
    "    poster = posts.find('div', class_=\"poster\")\n",
    "\n",
    "post = div.find('div', class_=\"post_wrapper\")\n",
    "poster = post.find('div', class_=\"poster\")"
   ]
  },
  {
   "cell_type": "code",
   "execution_count": 3,
   "metadata": {
    "collapsed": false
   },
   "outputs": [
    {
     "ename": "NameError",
     "evalue": "name 'app' is not defined",
     "output_type": "error",
     "traceback": [
      "\u001b[0;31m---------------------------------------------------------------------------\u001b[0m",
      "\u001b[0;31mNameError\u001b[0m                                 Traceback (most recent call last)",
      "\u001b[0;32m<ipython-input-3-02d9c81326b3>\u001b[0m in \u001b[0;36m<module>\u001b[0;34m()\u001b[0m\n\u001b[0;32m----> 1\u001b[0;31m \u001b[0mapp\u001b[0m\u001b[0;34m\u001b[0m\u001b[0m\n\u001b[0m",
      "\u001b[0;31mNameError\u001b[0m: name 'app' is not defined"
     ]
    }
   ],
   "source": [
    "app"
   ]
  },
  {
   "cell_type": "code",
   "execution_count": 9,
   "metadata": {
    "collapsed": false
   },
   "outputs": [
    {
     "name": "stdout",
     "output_type": "stream",
     "text": [
      "http://blah..... 1 .... 2\n",
      "http://blah..... 5 .... 11\n"
     ]
    }
   ],
   "source": [
    "url = \"http://blah..... %s .... %s\"\n",
    "\n",
    "data = [\n",
    "    { 'south': 1, 'north': 2},\n",
    "    { 'south': 5, 'north': 11}\n",
    "]\n",
    "\n",
    "for i in data:\n",
    "    print(url % (i[\"south\"], i[\"north\"]))"
   ]
  },
  {
   "cell_type": "code",
   "execution_count": 6,
   "metadata": {
    "collapsed": false
   },
   "outputs": [
    {
     "data": {
      "text/plain": [
       "'South is: 99, North is: 88'"
      ]
     },
     "execution_count": 6,
     "metadata": {},
     "output_type": "execute_result"
    }
   ],
   "source": [
    "s = \"South is: %s, North is: %s\"\n",
    "s % (99, 88)"
   ]
  }
 ],
 "metadata": {
  "kernelspec": {
   "display_name": "Python 2",
   "language": "python",
   "name": "python2"
  },
  "language_info": {
   "codemirror_mode": {
    "name": "ipython",
    "version": 2
   },
   "file_extension": ".py",
   "mimetype": "text/x-python",
   "name": "python",
   "nbconvert_exporter": "python",
   "pygments_lexer": "ipython2",
   "version": "2.7.11"
  }
 },
 "nbformat": 4,
 "nbformat_minor": 0
}
