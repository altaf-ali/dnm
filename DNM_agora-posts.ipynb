{
 "cells": [
  {
   "cell_type": "code",
   "execution_count": 48,
   "metadata": {
    "collapsed": false
   },
   "outputs": [],
   "source": [
    "import os\n",
    "import re\n",
    "import pandas as pd\n",
    "import dateutil\n",
    "import logging\n",
    "import hashlib\n",
    "import string\n",
    "import datetime\n",
    "import time\n",
    "import json\n",
    "\n",
    "import bs4 \n",
    "import dateutil.parser"
   ]
  },
  {
   "cell_type": "code",
   "execution_count": 49,
   "metadata": {
    "collapsed": true
   },
   "outputs": [],
   "source": [
    "DATA_DIR='/Users/altaf/Datasets/dnmarchives/agora-forums'\n",
    "OUTPUT_DIR = \"/Users/altaf/Projects/dnm_evolution/data/agora/posts\"\n",
    "\n",
    "MAX_TOPICS = 30000\n",
    "TRACE_TOPICS = 1000"
   ]
  },
  {
   "cell_type": "code",
   "execution_count": 50,
   "metadata": {
    "collapsed": true
   },
   "outputs": [],
   "source": [
    "FORMAT = '%(asctime)-15s %(levelname)-6s %(message)s'\n",
    "DATE_FORMAT = '%b %d %H:%M:%S'\n",
    "formatter = logging.Formatter(fmt=FORMAT, datefmt=DATE_FORMAT)\n",
    "handler = logging.StreamHandler()\n",
    "handler.setFormatter(formatter)\n",
    "logger = logging.getLogger(__name__)\n",
    "logger.addHandler(handler)\n",
    "logger.setLevel(logging.DEBUG)"
   ]
  },
  {
   "cell_type": "code",
   "execution_count": 51,
   "metadata": {
    "collapsed": true
   },
   "outputs": [],
   "source": [
    "def str_clean(s):\n",
    "    return(s.encode('ascii',errors='ignore').strip())"
   ]
  },
  {
   "cell_type": "code",
   "execution_count": 52,
   "metadata": {
    "collapsed": false
   },
   "outputs": [],
   "source": [
    "class Topic(object):\n",
    "    def __init__(self):\n",
    "        self.pages = list()\n",
    "\n",
    "    def write_post(self, post_wrapper, topic_id, page_id, post_id, title, dest):\n",
    "        post_tag = format(\"%d_%d_%d\" % (topic_id, page_id, post_id))\n",
    "        filename = os.path.join(dest, format(\"post_%s.txt\" % post_tag))\n",
    "        post = post_wrapper.select(\"div.postarea div.post div.inner\")\n",
    "        if not post:\n",
    "            return\n",
    "        \n",
    "        poster = post_wrapper.select(\"div.poster h4 a\")\n",
    "        if not poster:\n",
    "            return\n",
    "        \n",
    "        text = str_clean(post[0].get_text())\n",
    "        author = str_clean(poster[0].get_text())\n",
    "        \n",
    "        if (len(text) < 100 or len(author) < 1):\n",
    "            return\n",
    "        with open(filename, 'w') as outfile:\n",
    "            outfile.write(title + \". \" + text)\n",
    "        authors[post_tag] = author\n",
    "\n",
    "    def add_page(self, filename, topic_id, page_id):    \n",
    "        if page_id in self.pages:\n",
    "            return\n",
    "        \n",
    "        soup = bs4.BeautifulSoup(open(filename), 'html.parser')\n",
    "        forumposts = soup.find('div', id='forumposts')\n",
    "        \n",
    "        if not forumposts:\n",
    "            return\n",
    "        \n",
    "        title = str_clean(forumposts.select(\"div h3\")[0].contents[-1])\n",
    "        match = re.match(r'^Topic\\:(.*?)\\(Read \\d+ times\\)$', title)\n",
    "        \n",
    "        if not match:\n",
    "            return\n",
    "        \n",
    "        title = str_clean(match.group(1))\n",
    "        \n",
    "        post_id = 0\n",
    "        for post_wrapper in forumposts.find_all('div', class_='post_wrapper'):\n",
    "            self.write_post(post_wrapper, topic_id, page_id, post_id, title, OUTPUT_DIR)\n",
    "            post_id += 1\n",
    "                \n",
    "        self.pages.append(page_id)           "
   ]
  },
  {
   "cell_type": "code",
   "execution_count": 53,
   "metadata": {
    "collapsed": false,
    "scrolled": true
   },
   "outputs": [],
   "source": [
    "class App(object):\n",
    "    \n",
    "    def __init__(self):\n",
    "        self.topics = dict()\n",
    "\n",
    "    def dbg_trace(self):\n",
    "        num_topics = len(self.topics)\n",
    "\n",
    "        if num_topics and not (num_topics % TRACE_TOPICS):\n",
    "            logger.debug(\"Topics %d\" % num_topics)\n",
    "\n",
    "    def run(self):\n",
    "        folders = os.listdir(DATA_DIR)\n",
    "        folder_dates = sorted([dateutil.parser.parse(f) for f in folders if re.match(r'^\\d{4}-\\d{2}-\\d{2}$', f)], reverse=True)\n",
    "        \n",
    "        for folder_date in folder_dates:\n",
    "            if len(self.topics) >= MAX_TOPICS:\n",
    "                break;\n",
    "                \n",
    "            folder = \"%4s-%02d-%02d\" % (folder_date.year, folder_date.month, folder_date.day)\n",
    "\n",
    "            index_php = os.path.join(DATA_DIR, folder, 'index.php')\n",
    "            if not os.path.exists(index_php):\n",
    "                continue\n",
    "\n",
    "            for filename in os.listdir(index_php):\n",
    "                self.dbg_trace()\n",
    "                \n",
    "                if len(self.topics) >= MAX_TOPICS:\n",
    "                    break;\n",
    "                    \n",
    "                match = re.match(r'^topic\\,(\\d+)\\.(\\d+)\\.html$', filename)\n",
    "                if not match:\n",
    "                    continue\n",
    "\n",
    "                topic_id = int(match.group(1))\n",
    "                page_id = int(match.group(2))\n",
    "\n",
    "                if topic_id in self.topics:\n",
    "                    topic = self.topics[topic_id]\n",
    "                else:\n",
    "                    topic = Topic()\n",
    "                    self.topics[topic_id] = topic\n",
    "                \n",
    "                topic.add_page(os.path.join(index_php, filename), topic_id, page_id)            "
   ]
  },
  {
   "cell_type": "code",
   "execution_count": 54,
   "metadata": {
    "collapsed": true
   },
   "outputs": [],
   "source": [
    "authors = dict()\n",
    "app = App()"
   ]
  },
  {
   "cell_type": "code",
   "execution_count": 55,
   "metadata": {
    "collapsed": false
   },
   "outputs": [
    {
     "name": "stdout",
     "output_type": "stream",
     "text": [
      "START: Fri Apr  8 00:37:24 2016\n"
     ]
    },
    {
     "name": "stderr",
     "output_type": "stream",
     "text": [
      "Apr 08 00:39:34 DEBUG  Topics 1000\n",
      "Apr 08 00:39:34 DEBUG  Topics 1000\n",
      "Apr 08 00:41:24 DEBUG  Topics 2000\n",
      "Apr 08 00:41:24 DEBUG  Topics 2000\n",
      "Apr 08 00:42:18 DEBUG  Topics 3000\n",
      "Apr 08 00:42:18 DEBUG  Topics 3000\n",
      "Apr 08 00:43:25 DEBUG  Topics 4000\n",
      "Apr 08 00:43:25 DEBUG  Topics 4000\n",
      "Apr 08 00:43:25 DEBUG  Topics 4000\n",
      "Apr 08 00:43:25 DEBUG  Topics 4000\n",
      "Apr 08 00:45:32 DEBUG  Topics 5000\n",
      "Apr 08 00:45:32 DEBUG  Topics 5000\n",
      "Apr 08 00:45:32 DEBUG  Topics 5000\n",
      "Apr 08 00:45:32 DEBUG  Topics 5000\n",
      "Apr 08 00:46:56 DEBUG  Topics 6000\n",
      "Apr 08 00:46:56 DEBUG  Topics 6000\n",
      "Apr 08 00:50:27 DEBUG  Topics 7000\n",
      "Apr 08 00:50:27 DEBUG  Topics 7000\n",
      "Apr 08 00:50:27 DEBUG  Topics 7000\n",
      "Apr 08 00:50:27 DEBUG  Topics 7000\n",
      "Apr 08 00:50:27 DEBUG  Topics 7000\n",
      "Apr 08 00:50:27 DEBUG  Topics 7000\n",
      "Apr 08 00:50:27 DEBUG  Topics 7000\n",
      "Apr 08 00:50:27 DEBUG  Topics 7000\n",
      "Apr 08 00:50:27 DEBUG  Topics 7000\n",
      "Apr 08 00:50:27 DEBUG  Topics 7000\n",
      "Apr 08 00:51:28 DEBUG  Topics 8000\n",
      "Apr 08 00:51:28 DEBUG  Topics 8000\n",
      "Apr 08 00:51:28 DEBUG  Topics 8000\n",
      "Apr 08 00:51:28 DEBUG  Topics 8000\n",
      "Apr 08 00:51:28 DEBUG  Topics 8000\n",
      "Apr 08 00:51:28 DEBUG  Topics 8000\n",
      "Apr 08 00:56:24 DEBUG  Topics 9000\n",
      "Apr 08 00:56:24 DEBUG  Topics 9000\n",
      "Apr 08 01:02:37 DEBUG  Topics 10000\n",
      "Apr 08 01:02:37 DEBUG  Topics 10000\n",
      "Apr 08 01:02:37 DEBUG  Topics 10000\n",
      "Apr 08 01:02:37 DEBUG  Topics 10000\n",
      "Apr 08 01:02:37 DEBUG  Topics 10000\n",
      "Apr 08 01:02:37 DEBUG  Topics 10000\n",
      "Apr 08 01:02:37 DEBUG  Topics 10000\n",
      "Apr 08 01:02:37 DEBUG  Topics 10000\n",
      "Apr 08 01:02:37 DEBUG  Topics 10000\n",
      "Apr 08 01:02:37 DEBUG  Topics 10000\n",
      "Apr 08 01:02:37 DEBUG  Topics 10000\n",
      "Apr 08 01:02:37 DEBUG  Topics 10000\n",
      "Apr 08 01:02:37 DEBUG  Topics 10000\n",
      "Apr 08 01:02:37 DEBUG  Topics 10000\n",
      "Apr 08 01:02:37 DEBUG  Topics 10000\n",
      "Apr 08 01:02:37 DEBUG  Topics 10000\n",
      "Apr 08 01:02:37 DEBUG  Topics 10000\n",
      "Apr 08 01:02:37 DEBUG  Topics 10000\n",
      "Apr 08 01:02:37 DEBUG  Topics 10000\n",
      "Apr 08 01:02:37 DEBUG  Topics 10000\n",
      "Apr 08 01:02:37 DEBUG  Topics 10000\n",
      "Apr 08 01:02:37 DEBUG  Topics 10000\n",
      "Apr 08 01:02:37 DEBUG  Topics 10000\n",
      "Apr 08 01:02:37 DEBUG  Topics 10000\n",
      "Apr 08 01:02:37 DEBUG  Topics 10000\n",
      "Apr 08 01:02:37 DEBUG  Topics 10000\n",
      "Apr 08 01:02:37 DEBUG  Topics 10000\n",
      "Apr 08 01:02:37 DEBUG  Topics 10000\n",
      "Apr 08 01:02:37 DEBUG  Topics 10000\n",
      "Apr 08 01:02:37 DEBUG  Topics 10000\n",
      "Apr 08 01:02:37 DEBUG  Topics 10000\n",
      "Apr 08 01:02:37 DEBUG  Topics 10000\n",
      "Apr 08 01:02:37 DEBUG  Topics 10000\n",
      "Apr 08 01:02:37 DEBUG  Topics 10000\n",
      "Apr 08 01:02:37 DEBUG  Topics 10000\n",
      "Apr 08 01:02:37 DEBUG  Topics 10000\n",
      "Apr 08 01:02:37 DEBUG  Topics 10000\n",
      "Apr 08 01:02:37 DEBUG  Topics 10000\n",
      "Apr 08 01:02:37 DEBUG  Topics 10000\n",
      "Apr 08 01:02:37 DEBUG  Topics 10000\n",
      "Apr 08 01:02:37 DEBUG  Topics 10000\n",
      "Apr 08 01:02:37 DEBUG  Topics 10000\n",
      "Apr 08 01:02:37 DEBUG  Topics 10000\n",
      "Apr 08 01:02:37 DEBUG  Topics 10000\n",
      "Apr 08 01:02:37 DEBUG  Topics 10000\n",
      "Apr 08 01:02:37 DEBUG  Topics 10000\n",
      "Apr 08 01:02:37 DEBUG  Topics 10000\n",
      "Apr 08 01:02:37 DEBUG  Topics 10000\n",
      "Apr 08 01:02:37 DEBUG  Topics 10000\n",
      "Apr 08 01:02:37 DEBUG  Topics 10000\n",
      "Apr 08 01:02:37 DEBUG  Topics 10000\n",
      "Apr 08 01:02:37 DEBUG  Topics 10000\n",
      "Apr 08 01:02:37 DEBUG  Topics 10000\n",
      "Apr 08 01:02:37 DEBUG  Topics 10000\n",
      "Apr 08 01:02:37 DEBUG  Topics 10000\n",
      "Apr 08 01:02:37 DEBUG  Topics 10000\n",
      "Apr 08 01:02:37 DEBUG  Topics 10000\n",
      "Apr 08 01:02:37 DEBUG  Topics 10000\n",
      "Apr 08 01:02:37 DEBUG  Topics 10000\n",
      "Apr 08 01:02:37 DEBUG  Topics 10000\n",
      "Apr 08 01:02:37 DEBUG  Topics 10000\n",
      "Apr 08 01:02:37 DEBUG  Topics 10000\n",
      "Apr 08 01:02:37 DEBUG  Topics 10000\n",
      "Apr 08 01:02:37 DEBUG  Topics 10000\n",
      "Apr 08 01:02:37 DEBUG  Topics 10000\n",
      "Apr 08 01:02:37 DEBUG  Topics 10000\n",
      "Apr 08 01:02:37 DEBUG  Topics 10000\n",
      "Apr 08 01:02:37 DEBUG  Topics 10000\n",
      "Apr 08 01:02:37 DEBUG  Topics 10000\n",
      "Apr 08 01:02:37 DEBUG  Topics 10000\n",
      "Apr 08 01:02:37 DEBUG  Topics 10000\n",
      "Apr 08 01:02:37 DEBUG  Topics 10000\n",
      "Apr 08 01:02:37 DEBUG  Topics 10000\n",
      "Apr 08 01:02:37 DEBUG  Topics 10000\n",
      "Apr 08 01:02:37 DEBUG  Topics 10000\n",
      "Apr 08 01:02:37 DEBUG  Topics 10000\n",
      "Apr 08 01:02:37 DEBUG  Topics 10000\n",
      "Apr 08 01:02:37 DEBUG  Topics 10000\n",
      "Apr 08 01:02:37 DEBUG  Topics 10000\n",
      "Apr 08 01:02:37 DEBUG  Topics 10000\n",
      "Apr 08 01:02:37 DEBUG  Topics 10000\n",
      "Apr 08 01:02:37 DEBUG  Topics 10000\n",
      "Apr 08 01:02:37 DEBUG  Topics 10000\n",
      "Apr 08 01:02:37 DEBUG  Topics 10000\n",
      "Apr 08 01:04:59 DEBUG  Topics 11000\n",
      "Apr 08 01:04:59 DEBUG  Topics 11000\n",
      "Apr 08 01:10:36 DEBUG  Topics 12000\n",
      "Apr 08 01:10:36 DEBUG  Topics 12000\n",
      "Apr 08 01:27:37 DEBUG  Topics 13000\n",
      "Apr 08 01:27:37 DEBUG  Topics 13000\n",
      "Apr 08 01:41:33 DEBUG  Topics 14000\n",
      "Apr 08 01:41:33 DEBUG  Topics 14000\n",
      "Apr 08 01:41:33 DEBUG  Topics 14000\n",
      "Apr 08 01:41:33 DEBUG  Topics 14000\n",
      "Apr 08 01:41:33 DEBUG  Topics 14000\n",
      "Apr 08 01:41:33 DEBUG  Topics 14000\n",
      "Apr 08 01:41:33 DEBUG  Topics 14000\n",
      "Apr 08 01:41:33 DEBUG  Topics 14000\n",
      "Apr 08 01:41:33 DEBUG  Topics 14000\n",
      "Apr 08 01:41:33 DEBUG  Topics 14000\n",
      "Apr 08 01:41:33 DEBUG  Topics 14000\n",
      "Apr 08 01:41:33 DEBUG  Topics 14000\n",
      "Apr 08 01:41:33 DEBUG  Topics 14000\n",
      "Apr 08 01:41:33 DEBUG  Topics 14000\n"
     ]
    },
    {
     "ename": "KeyboardInterrupt",
     "evalue": "",
     "output_type": "error",
     "traceback": [
      "\u001b[0;31m---------------------------------------------------------------------------\u001b[0m",
      "\u001b[0;31mKeyboardInterrupt\u001b[0m                         Traceback (most recent call last)",
      "\u001b[0;32m<ipython-input-55-7260212c2a03>\u001b[0m in \u001b[0;36m<module>\u001b[0;34m()\u001b[0m\n\u001b[1;32m      1\u001b[0m \u001b[0;32mif\u001b[0m \u001b[0m__name__\u001b[0m\u001b[0;34m==\u001b[0m\u001b[0;34m'__main__'\u001b[0m\u001b[0;34m:\u001b[0m\u001b[0;34m\u001b[0m\u001b[0m\n\u001b[1;32m      2\u001b[0m     \u001b[0;32mprint\u001b[0m\u001b[0;34m(\u001b[0m\u001b[0;34m\"START: %s\"\u001b[0m \u001b[0;34m%\u001b[0m \u001b[0mtime\u001b[0m\u001b[0;34m.\u001b[0m\u001b[0mctime\u001b[0m\u001b[0;34m(\u001b[0m\u001b[0;34m)\u001b[0m\u001b[0;34m)\u001b[0m\u001b[0;34m\u001b[0m\u001b[0m\n\u001b[0;32m----> 3\u001b[0;31m     \u001b[0mget_ipython\u001b[0m\u001b[0;34m(\u001b[0m\u001b[0;34m)\u001b[0m\u001b[0;34m.\u001b[0m\u001b[0mmagic\u001b[0m\u001b[0;34m(\u001b[0m\u001b[0;34mu'time app.run()'\u001b[0m\u001b[0;34m)\u001b[0m\u001b[0;34m\u001b[0m\u001b[0m\n\u001b[0m\u001b[1;32m      4\u001b[0m     \u001b[0mauthors_filename\u001b[0m \u001b[0;34m=\u001b[0m \u001b[0mos\u001b[0m\u001b[0;34m.\u001b[0m\u001b[0mpath\u001b[0m\u001b[0;34m.\u001b[0m\u001b[0mjoin\u001b[0m\u001b[0;34m(\u001b[0m\u001b[0mOUTPUT_DIR\u001b[0m\u001b[0;34m,\u001b[0m \u001b[0;34m\"authors.json\"\u001b[0m\u001b[0;34m)\u001b[0m\u001b[0;34m\u001b[0m\u001b[0m\n\u001b[1;32m      5\u001b[0m     \u001b[0;32mwith\u001b[0m \u001b[0mopen\u001b[0m\u001b[0;34m(\u001b[0m\u001b[0mauthors_filename\u001b[0m\u001b[0;34m,\u001b[0m \u001b[0;34m'w'\u001b[0m\u001b[0;34m)\u001b[0m \u001b[0;32mas\u001b[0m \u001b[0moutfile\u001b[0m\u001b[0;34m:\u001b[0m\u001b[0;34m\u001b[0m\u001b[0m\n",
      "\u001b[0;32m/Users/altaf/usr/local/miniconda2/envs/dnm_evolution/lib/python2.7/site-packages/IPython/core/interactiveshell.pyc\u001b[0m in \u001b[0;36mmagic\u001b[0;34m(self, arg_s)\u001b[0m\n\u001b[1;32m   2161\u001b[0m         \u001b[0mmagic_name\u001b[0m\u001b[0;34m,\u001b[0m \u001b[0m_\u001b[0m\u001b[0;34m,\u001b[0m \u001b[0mmagic_arg_s\u001b[0m \u001b[0;34m=\u001b[0m \u001b[0marg_s\u001b[0m\u001b[0;34m.\u001b[0m\u001b[0mpartition\u001b[0m\u001b[0;34m(\u001b[0m\u001b[0;34m' '\u001b[0m\u001b[0;34m)\u001b[0m\u001b[0;34m\u001b[0m\u001b[0m\n\u001b[1;32m   2162\u001b[0m         \u001b[0mmagic_name\u001b[0m \u001b[0;34m=\u001b[0m \u001b[0mmagic_name\u001b[0m\u001b[0;34m.\u001b[0m\u001b[0mlstrip\u001b[0m\u001b[0;34m(\u001b[0m\u001b[0mprefilter\u001b[0m\u001b[0;34m.\u001b[0m\u001b[0mESC_MAGIC\u001b[0m\u001b[0;34m)\u001b[0m\u001b[0;34m\u001b[0m\u001b[0m\n\u001b[0;32m-> 2163\u001b[0;31m         \u001b[0;32mreturn\u001b[0m \u001b[0mself\u001b[0m\u001b[0;34m.\u001b[0m\u001b[0mrun_line_magic\u001b[0m\u001b[0;34m(\u001b[0m\u001b[0mmagic_name\u001b[0m\u001b[0;34m,\u001b[0m \u001b[0mmagic_arg_s\u001b[0m\u001b[0;34m)\u001b[0m\u001b[0;34m\u001b[0m\u001b[0m\n\u001b[0m\u001b[1;32m   2164\u001b[0m \u001b[0;34m\u001b[0m\u001b[0m\n\u001b[1;32m   2165\u001b[0m     \u001b[0;31m#-------------------------------------------------------------------------\u001b[0m\u001b[0;34m\u001b[0m\u001b[0;34m\u001b[0m\u001b[0m\n",
      "\u001b[0;32m/Users/altaf/usr/local/miniconda2/envs/dnm_evolution/lib/python2.7/site-packages/IPython/core/interactiveshell.pyc\u001b[0m in \u001b[0;36mrun_line_magic\u001b[0;34m(self, magic_name, line)\u001b[0m\n\u001b[1;32m   2082\u001b[0m                 \u001b[0mkwargs\u001b[0m\u001b[0;34m[\u001b[0m\u001b[0;34m'local_ns'\u001b[0m\u001b[0;34m]\u001b[0m \u001b[0;34m=\u001b[0m \u001b[0msys\u001b[0m\u001b[0;34m.\u001b[0m\u001b[0m_getframe\u001b[0m\u001b[0;34m(\u001b[0m\u001b[0mstack_depth\u001b[0m\u001b[0;34m)\u001b[0m\u001b[0;34m.\u001b[0m\u001b[0mf_locals\u001b[0m\u001b[0;34m\u001b[0m\u001b[0m\n\u001b[1;32m   2083\u001b[0m             \u001b[0;32mwith\u001b[0m \u001b[0mself\u001b[0m\u001b[0;34m.\u001b[0m\u001b[0mbuiltin_trap\u001b[0m\u001b[0;34m:\u001b[0m\u001b[0;34m\u001b[0m\u001b[0m\n\u001b[0;32m-> 2084\u001b[0;31m                 \u001b[0mresult\u001b[0m \u001b[0;34m=\u001b[0m \u001b[0mfn\u001b[0m\u001b[0;34m(\u001b[0m\u001b[0;34m*\u001b[0m\u001b[0margs\u001b[0m\u001b[0;34m,\u001b[0m\u001b[0;34m**\u001b[0m\u001b[0mkwargs\u001b[0m\u001b[0;34m)\u001b[0m\u001b[0;34m\u001b[0m\u001b[0m\n\u001b[0m\u001b[1;32m   2085\u001b[0m             \u001b[0;32mreturn\u001b[0m \u001b[0mresult\u001b[0m\u001b[0;34m\u001b[0m\u001b[0m\n\u001b[1;32m   2086\u001b[0m \u001b[0;34m\u001b[0m\u001b[0m\n",
      "\u001b[0;32m<decorator-gen-60>\u001b[0m in \u001b[0;36mtime\u001b[0;34m(self, line, cell, local_ns)\u001b[0m\n",
      "\u001b[0;32m/Users/altaf/usr/local/miniconda2/envs/dnm_evolution/lib/python2.7/site-packages/IPython/core/magic.pyc\u001b[0m in \u001b[0;36m<lambda>\u001b[0;34m(f, *a, **k)\u001b[0m\n\u001b[1;32m    191\u001b[0m     \u001b[0;31m# but it's overkill for just that one bit of state.\u001b[0m\u001b[0;34m\u001b[0m\u001b[0;34m\u001b[0m\u001b[0m\n\u001b[1;32m    192\u001b[0m     \u001b[0;32mdef\u001b[0m \u001b[0mmagic_deco\u001b[0m\u001b[0;34m(\u001b[0m\u001b[0marg\u001b[0m\u001b[0;34m)\u001b[0m\u001b[0;34m:\u001b[0m\u001b[0;34m\u001b[0m\u001b[0m\n\u001b[0;32m--> 193\u001b[0;31m         \u001b[0mcall\u001b[0m \u001b[0;34m=\u001b[0m \u001b[0;32mlambda\u001b[0m \u001b[0mf\u001b[0m\u001b[0;34m,\u001b[0m \u001b[0;34m*\u001b[0m\u001b[0ma\u001b[0m\u001b[0;34m,\u001b[0m \u001b[0;34m**\u001b[0m\u001b[0mk\u001b[0m\u001b[0;34m:\u001b[0m \u001b[0mf\u001b[0m\u001b[0;34m(\u001b[0m\u001b[0;34m*\u001b[0m\u001b[0ma\u001b[0m\u001b[0;34m,\u001b[0m \u001b[0;34m**\u001b[0m\u001b[0mk\u001b[0m\u001b[0;34m)\u001b[0m\u001b[0;34m\u001b[0m\u001b[0m\n\u001b[0m\u001b[1;32m    194\u001b[0m \u001b[0;34m\u001b[0m\u001b[0m\n\u001b[1;32m    195\u001b[0m         \u001b[0;32mif\u001b[0m \u001b[0mcallable\u001b[0m\u001b[0;34m(\u001b[0m\u001b[0marg\u001b[0m\u001b[0;34m)\u001b[0m\u001b[0;34m:\u001b[0m\u001b[0;34m\u001b[0m\u001b[0m\n",
      "\u001b[0;32m/Users/altaf/usr/local/miniconda2/envs/dnm_evolution/lib/python2.7/site-packages/IPython/core/magics/execution.pyc\u001b[0m in \u001b[0;36mtime\u001b[0;34m(self, line, cell, local_ns)\u001b[0m\n\u001b[1;32m   1171\u001b[0m         \u001b[0;32mif\u001b[0m \u001b[0mmode\u001b[0m\u001b[0;34m==\u001b[0m\u001b[0;34m'eval'\u001b[0m\u001b[0;34m:\u001b[0m\u001b[0;34m\u001b[0m\u001b[0m\n\u001b[1;32m   1172\u001b[0m             \u001b[0mst\u001b[0m \u001b[0;34m=\u001b[0m \u001b[0mclock2\u001b[0m\u001b[0;34m(\u001b[0m\u001b[0;34m)\u001b[0m\u001b[0;34m\u001b[0m\u001b[0m\n\u001b[0;32m-> 1173\u001b[0;31m             \u001b[0mout\u001b[0m \u001b[0;34m=\u001b[0m \u001b[0meval\u001b[0m\u001b[0;34m(\u001b[0m\u001b[0mcode\u001b[0m\u001b[0;34m,\u001b[0m \u001b[0mglob\u001b[0m\u001b[0;34m,\u001b[0m \u001b[0mlocal_ns\u001b[0m\u001b[0;34m)\u001b[0m\u001b[0;34m\u001b[0m\u001b[0m\n\u001b[0m\u001b[1;32m   1174\u001b[0m             \u001b[0mend\u001b[0m \u001b[0;34m=\u001b[0m \u001b[0mclock2\u001b[0m\u001b[0;34m(\u001b[0m\u001b[0;34m)\u001b[0m\u001b[0;34m\u001b[0m\u001b[0m\n\u001b[1;32m   1175\u001b[0m         \u001b[0;32melse\u001b[0m\u001b[0;34m:\u001b[0m\u001b[0;34m\u001b[0m\u001b[0m\n",
      "\u001b[0;32m<timed eval>\u001b[0m in \u001b[0;36m<module>\u001b[0;34m()\u001b[0m\n",
      "\u001b[0;32m<ipython-input-53-967738f2fb16>\u001b[0m in \u001b[0;36mrun\u001b[0;34m(self)\u001b[0m\n\u001b[1;32m     43\u001b[0m                     \u001b[0mself\u001b[0m\u001b[0;34m.\u001b[0m\u001b[0mtopics\u001b[0m\u001b[0;34m[\u001b[0m\u001b[0mtopic_id\u001b[0m\u001b[0;34m]\u001b[0m \u001b[0;34m=\u001b[0m \u001b[0mtopic\u001b[0m\u001b[0;34m\u001b[0m\u001b[0m\n\u001b[1;32m     44\u001b[0m \u001b[0;34m\u001b[0m\u001b[0m\n\u001b[0;32m---> 45\u001b[0;31m                 \u001b[0mtopic\u001b[0m\u001b[0;34m.\u001b[0m\u001b[0madd_page\u001b[0m\u001b[0;34m(\u001b[0m\u001b[0mos\u001b[0m\u001b[0;34m.\u001b[0m\u001b[0mpath\u001b[0m\u001b[0;34m.\u001b[0m\u001b[0mjoin\u001b[0m\u001b[0;34m(\u001b[0m\u001b[0mindex_php\u001b[0m\u001b[0;34m,\u001b[0m \u001b[0mfilename\u001b[0m\u001b[0;34m)\u001b[0m\u001b[0;34m,\u001b[0m \u001b[0mtopic_id\u001b[0m\u001b[0;34m,\u001b[0m \u001b[0mpage_id\u001b[0m\u001b[0;34m)\u001b[0m\u001b[0;34m\u001b[0m\u001b[0m\n\u001b[0m",
      "\u001b[0;32m<ipython-input-52-9369702523bc>\u001b[0m in \u001b[0;36madd_page\u001b[0;34m(self, filename, topic_id, page_id)\u001b[0m\n\u001b[1;32m     27\u001b[0m             \u001b[0;32mreturn\u001b[0m\u001b[0;34m\u001b[0m\u001b[0m\n\u001b[1;32m     28\u001b[0m \u001b[0;34m\u001b[0m\u001b[0m\n\u001b[0;32m---> 29\u001b[0;31m         \u001b[0msoup\u001b[0m \u001b[0;34m=\u001b[0m \u001b[0mbs4\u001b[0m\u001b[0;34m.\u001b[0m\u001b[0mBeautifulSoup\u001b[0m\u001b[0;34m(\u001b[0m\u001b[0mopen\u001b[0m\u001b[0;34m(\u001b[0m\u001b[0mfilename\u001b[0m\u001b[0;34m)\u001b[0m\u001b[0;34m,\u001b[0m \u001b[0;34m'html.parser'\u001b[0m\u001b[0;34m)\u001b[0m\u001b[0;34m\u001b[0m\u001b[0m\n\u001b[0m\u001b[1;32m     30\u001b[0m         \u001b[0mforumposts\u001b[0m \u001b[0;34m=\u001b[0m \u001b[0msoup\u001b[0m\u001b[0;34m.\u001b[0m\u001b[0mfind\u001b[0m\u001b[0;34m(\u001b[0m\u001b[0;34m'div'\u001b[0m\u001b[0;34m,\u001b[0m \u001b[0mid\u001b[0m\u001b[0;34m=\u001b[0m\u001b[0;34m'forumposts'\u001b[0m\u001b[0;34m)\u001b[0m\u001b[0;34m\u001b[0m\u001b[0m\n\u001b[1;32m     31\u001b[0m \u001b[0;34m\u001b[0m\u001b[0m\n",
      "\u001b[0;32m/Users/altaf/usr/local/miniconda2/envs/dnm_evolution/lib/python2.7/site-packages/bs4/__init__.pyc\u001b[0m in \u001b[0;36m__init__\u001b[0;34m(self, markup, features, builder, parse_only, from_encoding, exclude_encodings, **kwargs)\u001b[0m\n\u001b[1;32m    213\u001b[0m             \u001b[0mself\u001b[0m\u001b[0;34m.\u001b[0m\u001b[0mreset\u001b[0m\u001b[0;34m(\u001b[0m\u001b[0;34m)\u001b[0m\u001b[0;34m\u001b[0m\u001b[0m\n\u001b[1;32m    214\u001b[0m             \u001b[0;32mtry\u001b[0m\u001b[0;34m:\u001b[0m\u001b[0;34m\u001b[0m\u001b[0m\n\u001b[0;32m--> 215\u001b[0;31m                 \u001b[0mself\u001b[0m\u001b[0;34m.\u001b[0m\u001b[0m_feed\u001b[0m\u001b[0;34m(\u001b[0m\u001b[0;34m)\u001b[0m\u001b[0;34m\u001b[0m\u001b[0m\n\u001b[0m\u001b[1;32m    216\u001b[0m                 \u001b[0;32mbreak\u001b[0m\u001b[0;34m\u001b[0m\u001b[0m\n\u001b[1;32m    217\u001b[0m             \u001b[0;32mexcept\u001b[0m \u001b[0mParserRejectedMarkup\u001b[0m\u001b[0;34m:\u001b[0m\u001b[0;34m\u001b[0m\u001b[0m\n",
      "\u001b[0;32m/Users/altaf/usr/local/miniconda2/envs/dnm_evolution/lib/python2.7/site-packages/bs4/__init__.pyc\u001b[0m in \u001b[0;36m_feed\u001b[0;34m(self)\u001b[0m\n\u001b[1;32m    237\u001b[0m         \u001b[0mself\u001b[0m\u001b[0;34m.\u001b[0m\u001b[0mbuilder\u001b[0m\u001b[0;34m.\u001b[0m\u001b[0mreset\u001b[0m\u001b[0;34m(\u001b[0m\u001b[0;34m)\u001b[0m\u001b[0;34m\u001b[0m\u001b[0m\n\u001b[1;32m    238\u001b[0m \u001b[0;34m\u001b[0m\u001b[0m\n\u001b[0;32m--> 239\u001b[0;31m         \u001b[0mself\u001b[0m\u001b[0;34m.\u001b[0m\u001b[0mbuilder\u001b[0m\u001b[0;34m.\u001b[0m\u001b[0mfeed\u001b[0m\u001b[0;34m(\u001b[0m\u001b[0mself\u001b[0m\u001b[0;34m.\u001b[0m\u001b[0mmarkup\u001b[0m\u001b[0;34m)\u001b[0m\u001b[0;34m\u001b[0m\u001b[0m\n\u001b[0m\u001b[1;32m    240\u001b[0m         \u001b[0;31m# Close out any unfinished strings and close all the open tags.\u001b[0m\u001b[0;34m\u001b[0m\u001b[0;34m\u001b[0m\u001b[0m\n\u001b[1;32m    241\u001b[0m         \u001b[0mself\u001b[0m\u001b[0;34m.\u001b[0m\u001b[0mendData\u001b[0m\u001b[0;34m(\u001b[0m\u001b[0;34m)\u001b[0m\u001b[0;34m\u001b[0m\u001b[0m\n",
      "\u001b[0;32m/Users/altaf/usr/local/miniconda2/envs/dnm_evolution/lib/python2.7/site-packages/bs4/builder/_htmlparser.pyc\u001b[0m in \u001b[0;36mfeed\u001b[0;34m(self, markup)\u001b[0m\n\u001b[1;32m    162\u001b[0m         \u001b[0mparser\u001b[0m\u001b[0;34m.\u001b[0m\u001b[0msoup\u001b[0m \u001b[0;34m=\u001b[0m \u001b[0mself\u001b[0m\u001b[0;34m.\u001b[0m\u001b[0msoup\u001b[0m\u001b[0;34m\u001b[0m\u001b[0m\n\u001b[1;32m    163\u001b[0m         \u001b[0;32mtry\u001b[0m\u001b[0;34m:\u001b[0m\u001b[0;34m\u001b[0m\u001b[0m\n\u001b[0;32m--> 164\u001b[0;31m             \u001b[0mparser\u001b[0m\u001b[0;34m.\u001b[0m\u001b[0mfeed\u001b[0m\u001b[0;34m(\u001b[0m\u001b[0mmarkup\u001b[0m\u001b[0;34m)\u001b[0m\u001b[0;34m\u001b[0m\u001b[0m\n\u001b[0m\u001b[1;32m    165\u001b[0m         \u001b[0;32mexcept\u001b[0m \u001b[0mHTMLParseError\u001b[0m\u001b[0;34m,\u001b[0m \u001b[0me\u001b[0m\u001b[0;34m:\u001b[0m\u001b[0;34m\u001b[0m\u001b[0m\n\u001b[1;32m    166\u001b[0m             warnings.warn(RuntimeWarning(\n",
      "\u001b[0;32m/Users/altaf/usr/local/miniconda2/envs/dnm_evolution/lib/python2.7/HTMLParser.pyc\u001b[0m in \u001b[0;36mfeed\u001b[0;34m(self, data)\u001b[0m\n\u001b[1;32m    115\u001b[0m         \"\"\"\n\u001b[1;32m    116\u001b[0m         \u001b[0mself\u001b[0m\u001b[0;34m.\u001b[0m\u001b[0mrawdata\u001b[0m \u001b[0;34m=\u001b[0m \u001b[0mself\u001b[0m\u001b[0;34m.\u001b[0m\u001b[0mrawdata\u001b[0m \u001b[0;34m+\u001b[0m \u001b[0mdata\u001b[0m\u001b[0;34m\u001b[0m\u001b[0m\n\u001b[0;32m--> 117\u001b[0;31m         \u001b[0mself\u001b[0m\u001b[0;34m.\u001b[0m\u001b[0mgoahead\u001b[0m\u001b[0;34m(\u001b[0m\u001b[0;36m0\u001b[0m\u001b[0;34m)\u001b[0m\u001b[0;34m\u001b[0m\u001b[0m\n\u001b[0m\u001b[1;32m    118\u001b[0m \u001b[0;34m\u001b[0m\u001b[0m\n\u001b[1;32m    119\u001b[0m     \u001b[0;32mdef\u001b[0m \u001b[0mclose\u001b[0m\u001b[0;34m(\u001b[0m\u001b[0mself\u001b[0m\u001b[0;34m)\u001b[0m\u001b[0;34m:\u001b[0m\u001b[0;34m\u001b[0m\u001b[0m\n",
      "\u001b[0;32m/Users/altaf/usr/local/miniconda2/envs/dnm_evolution/lib/python2.7/HTMLParser.pyc\u001b[0m in \u001b[0;36mgoahead\u001b[0;34m(self, end)\u001b[0m\n\u001b[1;32m    159\u001b[0m             \u001b[0;32mif\u001b[0m \u001b[0mstartswith\u001b[0m\u001b[0;34m(\u001b[0m\u001b[0;34m'<'\u001b[0m\u001b[0;34m,\u001b[0m \u001b[0mi\u001b[0m\u001b[0;34m)\u001b[0m\u001b[0;34m:\u001b[0m\u001b[0;34m\u001b[0m\u001b[0m\n\u001b[1;32m    160\u001b[0m                 \u001b[0;32mif\u001b[0m \u001b[0mstarttagopen\u001b[0m\u001b[0;34m.\u001b[0m\u001b[0mmatch\u001b[0m\u001b[0;34m(\u001b[0m\u001b[0mrawdata\u001b[0m\u001b[0;34m,\u001b[0m \u001b[0mi\u001b[0m\u001b[0;34m)\u001b[0m\u001b[0;34m:\u001b[0m \u001b[0;31m# < + letter\u001b[0m\u001b[0;34m\u001b[0m\u001b[0m\n\u001b[0;32m--> 161\u001b[0;31m                     \u001b[0mk\u001b[0m \u001b[0;34m=\u001b[0m \u001b[0mself\u001b[0m\u001b[0;34m.\u001b[0m\u001b[0mparse_starttag\u001b[0m\u001b[0;34m(\u001b[0m\u001b[0mi\u001b[0m\u001b[0;34m)\u001b[0m\u001b[0;34m\u001b[0m\u001b[0m\n\u001b[0m\u001b[1;32m    162\u001b[0m                 \u001b[0;32melif\u001b[0m \u001b[0mstartswith\u001b[0m\u001b[0;34m(\u001b[0m\u001b[0;34m\"</\"\u001b[0m\u001b[0;34m,\u001b[0m \u001b[0mi\u001b[0m\u001b[0;34m)\u001b[0m\u001b[0;34m:\u001b[0m\u001b[0;34m\u001b[0m\u001b[0m\n\u001b[1;32m    163\u001b[0m                     \u001b[0mk\u001b[0m \u001b[0;34m=\u001b[0m \u001b[0mself\u001b[0m\u001b[0;34m.\u001b[0m\u001b[0mparse_endtag\u001b[0m\u001b[0;34m(\u001b[0m\u001b[0mi\u001b[0m\u001b[0;34m)\u001b[0m\u001b[0;34m\u001b[0m\u001b[0m\n",
      "\u001b[0;32m/Users/altaf/usr/local/miniconda2/envs/dnm_evolution/lib/python2.7/HTMLParser.pyc\u001b[0m in \u001b[0;36mparse_starttag\u001b[0;34m(self, i)\u001b[0m\n\u001b[1;32m    323\u001b[0m         \u001b[0;32mif\u001b[0m \u001b[0mend\u001b[0m\u001b[0;34m.\u001b[0m\u001b[0mendswith\u001b[0m\u001b[0;34m(\u001b[0m\u001b[0;34m'/>'\u001b[0m\u001b[0;34m)\u001b[0m\u001b[0;34m:\u001b[0m\u001b[0;34m\u001b[0m\u001b[0m\n\u001b[1;32m    324\u001b[0m             \u001b[0;31m# XHTML-style empty tag: <span attr=\"value\" />\u001b[0m\u001b[0;34m\u001b[0m\u001b[0;34m\u001b[0m\u001b[0m\n\u001b[0;32m--> 325\u001b[0;31m             \u001b[0mself\u001b[0m\u001b[0;34m.\u001b[0m\u001b[0mhandle_startendtag\u001b[0m\u001b[0;34m(\u001b[0m\u001b[0mtag\u001b[0m\u001b[0;34m,\u001b[0m \u001b[0mattrs\u001b[0m\u001b[0;34m)\u001b[0m\u001b[0;34m\u001b[0m\u001b[0m\n\u001b[0m\u001b[1;32m    326\u001b[0m         \u001b[0;32melse\u001b[0m\u001b[0;34m:\u001b[0m\u001b[0;34m\u001b[0m\u001b[0m\n\u001b[1;32m    327\u001b[0m             \u001b[0mself\u001b[0m\u001b[0;34m.\u001b[0m\u001b[0mhandle_starttag\u001b[0m\u001b[0;34m(\u001b[0m\u001b[0mtag\u001b[0m\u001b[0;34m,\u001b[0m \u001b[0mattrs\u001b[0m\u001b[0;34m)\u001b[0m\u001b[0;34m\u001b[0m\u001b[0m\n",
      "\u001b[0;32m/Users/altaf/usr/local/miniconda2/envs/dnm_evolution/lib/python2.7/HTMLParser.pyc\u001b[0m in \u001b[0;36mhandle_startendtag\u001b[0;34m(self, tag, attrs)\u001b[0m\n\u001b[1;32m    405\u001b[0m     \u001b[0;31m# Overridable -- finish processing of start+end tag: <tag.../>\u001b[0m\u001b[0;34m\u001b[0m\u001b[0;34m\u001b[0m\u001b[0m\n\u001b[1;32m    406\u001b[0m     \u001b[0;32mdef\u001b[0m \u001b[0mhandle_startendtag\u001b[0m\u001b[0;34m(\u001b[0m\u001b[0mself\u001b[0m\u001b[0;34m,\u001b[0m \u001b[0mtag\u001b[0m\u001b[0;34m,\u001b[0m \u001b[0mattrs\u001b[0m\u001b[0;34m)\u001b[0m\u001b[0;34m:\u001b[0m\u001b[0;34m\u001b[0m\u001b[0m\n\u001b[0;32m--> 407\u001b[0;31m         \u001b[0mself\u001b[0m\u001b[0;34m.\u001b[0m\u001b[0mhandle_starttag\u001b[0m\u001b[0;34m(\u001b[0m\u001b[0mtag\u001b[0m\u001b[0;34m,\u001b[0m \u001b[0mattrs\u001b[0m\u001b[0;34m)\u001b[0m\u001b[0;34m\u001b[0m\u001b[0m\n\u001b[0m\u001b[1;32m    408\u001b[0m         \u001b[0mself\u001b[0m\u001b[0;34m.\u001b[0m\u001b[0mhandle_endtag\u001b[0m\u001b[0;34m(\u001b[0m\u001b[0mtag\u001b[0m\u001b[0;34m)\u001b[0m\u001b[0;34m\u001b[0m\u001b[0m\n\u001b[1;32m    409\u001b[0m \u001b[0;34m\u001b[0m\u001b[0m\n",
      "\u001b[0;32m/Users/altaf/usr/local/miniconda2/envs/dnm_evolution/lib/python2.7/site-packages/bs4/builder/_htmlparser.pyc\u001b[0m in \u001b[0;36mhandle_starttag\u001b[0;34m(self, name, attrs)\u001b[0m\n\u001b[1;32m     60\u001b[0m             \u001b[0mattr_dict\u001b[0m\u001b[0;34m[\u001b[0m\u001b[0mkey\u001b[0m\u001b[0;34m]\u001b[0m \u001b[0;34m=\u001b[0m \u001b[0mvalue\u001b[0m\u001b[0;34m\u001b[0m\u001b[0m\n\u001b[1;32m     61\u001b[0m             \u001b[0mattrvalue\u001b[0m \u001b[0;34m=\u001b[0m \u001b[0;34m'\"\"'\u001b[0m\u001b[0;34m\u001b[0m\u001b[0m\n\u001b[0;32m---> 62\u001b[0;31m         \u001b[0mself\u001b[0m\u001b[0;34m.\u001b[0m\u001b[0msoup\u001b[0m\u001b[0;34m.\u001b[0m\u001b[0mhandle_starttag\u001b[0m\u001b[0;34m(\u001b[0m\u001b[0mname\u001b[0m\u001b[0;34m,\u001b[0m \u001b[0mNone\u001b[0m\u001b[0;34m,\u001b[0m \u001b[0mNone\u001b[0m\u001b[0;34m,\u001b[0m \u001b[0mattr_dict\u001b[0m\u001b[0;34m)\u001b[0m\u001b[0;34m\u001b[0m\u001b[0m\n\u001b[0m\u001b[1;32m     63\u001b[0m \u001b[0;34m\u001b[0m\u001b[0m\n\u001b[1;32m     64\u001b[0m     \u001b[0;32mdef\u001b[0m \u001b[0mhandle_endtag\u001b[0m\u001b[0;34m(\u001b[0m\u001b[0mself\u001b[0m\u001b[0;34m,\u001b[0m \u001b[0mname\u001b[0m\u001b[0;34m)\u001b[0m\u001b[0;34m:\u001b[0m\u001b[0;34m\u001b[0m\u001b[0m\n",
      "\u001b[0;32m/Users/altaf/usr/local/miniconda2/envs/dnm_evolution/lib/python2.7/site-packages/bs4/__init__.pyc\u001b[0m in \u001b[0;36mhandle_starttag\u001b[0;34m(self, name, namespace, nsprefix, attrs)\u001b[0m\n\u001b[1;32m    402\u001b[0m \u001b[0;34m\u001b[0m\u001b[0m\n\u001b[1;32m    403\u001b[0m         tag = Tag(self, self.builder, name, namespace, nsprefix, attrs,\n\u001b[0;32m--> 404\u001b[0;31m                   self.currentTag, self._most_recent_element)\n\u001b[0m\u001b[1;32m    405\u001b[0m         \u001b[0;32mif\u001b[0m \u001b[0mtag\u001b[0m \u001b[0;32mis\u001b[0m \u001b[0mNone\u001b[0m\u001b[0;34m:\u001b[0m\u001b[0;34m\u001b[0m\u001b[0m\n\u001b[1;32m    406\u001b[0m             \u001b[0;32mreturn\u001b[0m \u001b[0mtag\u001b[0m\u001b[0;34m\u001b[0m\u001b[0m\n",
      "\u001b[0;32m/Users/altaf/usr/local/miniconda2/envs/dnm_evolution/lib/python2.7/site-packages/bs4/element.pyc\u001b[0m in \u001b[0;36m__init__\u001b[0;34m(self, parser, builder, name, namespace, prefix, attrs, parent, previous)\u001b[0m\n\u001b[1;32m    801\u001b[0m             \u001b[0;32mif\u001b[0m \u001b[0mbuilder\u001b[0m \u001b[0;32mis\u001b[0m \u001b[0;32mnot\u001b[0m \u001b[0mNone\u001b[0m \u001b[0;32mand\u001b[0m \u001b[0mbuilder\u001b[0m\u001b[0;34m.\u001b[0m\u001b[0mcdata_list_attributes\u001b[0m\u001b[0;34m:\u001b[0m\u001b[0;34m\u001b[0m\u001b[0m\n\u001b[1;32m    802\u001b[0m                 attrs = builder._replace_cdata_list_attribute_values(\n\u001b[0;32m--> 803\u001b[0;31m                     self.name, attrs)\n\u001b[0m\u001b[1;32m    804\u001b[0m             \u001b[0;32melse\u001b[0m\u001b[0;34m:\u001b[0m\u001b[0;34m\u001b[0m\u001b[0m\n\u001b[1;32m    805\u001b[0m                 \u001b[0mattrs\u001b[0m \u001b[0;34m=\u001b[0m \u001b[0mdict\u001b[0m\u001b[0;34m(\u001b[0m\u001b[0mattrs\u001b[0m\u001b[0;34m)\u001b[0m\u001b[0;34m\u001b[0m\u001b[0m\n",
      "\u001b[0;32m/Users/altaf/usr/local/miniconda2/envs/dnm_evolution/lib/python2.7/site-packages/bs4/builder/__init__.pyc\u001b[0m in \u001b[0;36m_replace_cdata_list_attribute_values\u001b[0;34m(self, tag_name, attrs)\u001b[0m\n\u001b[1;32m    157\u001b[0m             tag_specific = self.cdata_list_attributes.get(\n\u001b[1;32m    158\u001b[0m                 tag_name.lower(), None)\n\u001b[0;32m--> 159\u001b[0;31m             \u001b[0;32mfor\u001b[0m \u001b[0mattr\u001b[0m \u001b[0;32min\u001b[0m \u001b[0mattrs\u001b[0m\u001b[0;34m.\u001b[0m\u001b[0mkeys\u001b[0m\u001b[0;34m(\u001b[0m\u001b[0;34m)\u001b[0m\u001b[0;34m:\u001b[0m\u001b[0;34m\u001b[0m\u001b[0m\n\u001b[0m\u001b[1;32m    160\u001b[0m                 \u001b[0;32mif\u001b[0m \u001b[0mattr\u001b[0m \u001b[0;32min\u001b[0m \u001b[0muniversal\u001b[0m \u001b[0;32mor\u001b[0m \u001b[0;34m(\u001b[0m\u001b[0mtag_specific\u001b[0m \u001b[0;32mand\u001b[0m \u001b[0mattr\u001b[0m \u001b[0;32min\u001b[0m \u001b[0mtag_specific\u001b[0m\u001b[0;34m)\u001b[0m\u001b[0;34m:\u001b[0m\u001b[0;34m\u001b[0m\u001b[0m\n\u001b[1;32m    161\u001b[0m                     \u001b[0;31m# We have a \"class\"-type attribute whose string\u001b[0m\u001b[0;34m\u001b[0m\u001b[0;34m\u001b[0m\u001b[0m\n",
      "\u001b[0;31mKeyboardInterrupt\u001b[0m: "
     ]
    }
   ],
   "source": [
    "if __name__=='__main__':\n",
    "    print(\"START: %s\" % time.ctime())\n",
    "    %time app.run() \n",
    "    authors_filename = os.path.join(OUTPUT_DIR, \"authors.json\")\n",
    "    with open(authors_filename, 'w') as outfile:\n",
    "        json.dump(authors, outfile)\n",
    "    print(\"FINISH: %s\" % time.ctime())"
   ]
  },
  {
   "cell_type": "code",
   "execution_count": null,
   "metadata": {
    "collapsed": false,
    "scrolled": false
   },
   "outputs": [],
   "source": [
    "for topic_id, topic in app.topics.iteritems():\n",
    "    print(topic.title)\n",
    "    print(topic.pages)\n",
    "    print(topic.posters)"
   ]
  },
  {
   "cell_type": "code",
   "execution_count": 5,
   "metadata": {
    "collapsed": false,
    "scrolled": true
   },
   "outputs": [],
   "source": [
    "filename = '/Users/altaf/Datasets/dnmarchives/agora-forums/2015-07-06/index.php/topic,100166.0.html'\n",
    "soup = bs4.BeautifulSoup(open(filename), 'html.parser', from_encoding='utf-8')\n",
    "forumposts = soup.find('div', id='forumposts')\n",
    "for post_wrapper in forumposts.find_all('div', class_='post_wrapper'):\n",
    "    poster = post_wrapper.find('div', class_=\"poster\")\n",
    "\n",
    "#post = div.find('div', class_=\"post_wrapper\")\n",
    "#poster = post.find('div', class_=\"poster\")"
   ]
  },
  {
   "cell_type": "code",
   "execution_count": null,
   "metadata": {
    "collapsed": false,
    "scrolled": true
   },
   "outputs": [],
   "source": [
    "post_wrapper = forumposts.find_all('div', class_='post_wrapper')\n",
    "p = post_wrapper[0].select(\"div.postarea div.post div.inner\")\n",
    "str_clean(p[0].get_text())"
   ]
  },
  {
   "cell_type": "code",
   "execution_count": 45,
   "metadata": {
    "collapsed": false
   },
   "outputs": [
    {
     "data": {
      "text/plain": [
       "132473"
      ]
     },
     "execution_count": 45,
     "metadata": {},
     "output_type": "execute_result"
    }
   ],
   "source": [
    "app_10000 = app\n",
    "authors_10000 = authors\n",
    "\n",
    "len(authors)"
   ]
  },
  {
   "cell_type": "code",
   "execution_count": 56,
   "metadata": {
    "collapsed": true
   },
   "outputs": [],
   "source": [
    "authors_filename = os.path.join(OUTPUT_DIR, \"authors.json\")\n",
    "with open(authors_filename, 'w') as outfile:\n",
    "    json.dump(authors, outfile)\n"
   ]
  }
 ],
 "metadata": {
  "kernelspec": {
   "display_name": "Python 2",
   "language": "python",
   "name": "python2"
  },
  "language_info": {
   "codemirror_mode": {
    "name": "ipython",
    "version": 2
   },
   "file_extension": ".py",
   "mimetype": "text/x-python",
   "name": "python",
   "nbconvert_exporter": "python",
   "pygments_lexer": "ipython2",
   "version": "2.7.11"
  }
 },
 "nbformat": 4,
 "nbformat_minor": 0
}
